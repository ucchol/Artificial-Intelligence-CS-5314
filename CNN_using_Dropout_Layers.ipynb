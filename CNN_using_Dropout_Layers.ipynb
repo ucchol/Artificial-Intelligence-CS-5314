{
  "nbformat": 4,
  "nbformat_minor": 0,
  "metadata": {
    "colab": {
      "provenance": []
    },
    "kernelspec": {
      "name": "python3",
      "display_name": "Python 3"
    },
    "language_info": {
      "name": "python"
    }
  },
  "cells": [
    {
      "cell_type": "markdown",
      "source": [
        "# Libraries for the Project"
      ],
      "metadata": {
        "id": "SWTPlCBbXia7"
      }
    },
    {
      "cell_type": "code",
      "execution_count": null,
      "metadata": {
        "id": "U7Q9_pwOCZYc"
      },
      "outputs": [],
      "source": [
        "import numpy as np\n",
        "import pandas as pd\n",
        "from sklearn.model_selection import train_test_split\n",
        "from sklearn.metrics import classification_report\n",
        "from tensorflow.python import keras\n",
        "from tensorflow.python.keras.models import Sequential\n",
        "from tensorflow.python.keras.layers import Dense, Flatten, Conv2D, Dropout, MaxPooling2D\n",
        "from IPython.display import SVG\n",
        "from keras.utils.vis_utils import model_to_dot\n",
        "from keras.utils import plot_model\n",
        "import seaborn as sns\n",
        "import matplotlib.pyplot as plt\n",
        "%matplotlib inline \n",
        "import plotly.graph_objs as go\n",
        "import plotly.figure_factory as ff\n",
        "from plotly import tools\n",
        "from plotly.offline import download_plotlyjs, init_notebook_mode, plot, iplot\n",
        "init_notebook_mode(connected=True)"
      ]
    },
    {
      "cell_type": "code",
      "source": [
        "from keras.utils import np_utils\n"
      ],
      "metadata": {
        "id": "jM2fezpKHjZi"
      },
      "execution_count": null,
      "outputs": []
    },
    {
      "cell_type": "code",
      "source": [
        "from google.colab import drive\n",
        "drive.mount('/content/drive')"
      ],
      "metadata": {
        "colab": {
          "base_uri": "https://localhost:8080/"
        },
        "id": "eZWYGqJvDEP6",
        "outputId": "4dae8786-7f78-4695-c6b2-624bb5dbbbe2"
      },
      "execution_count": null,
      "outputs": [
        {
          "output_type": "stream",
          "name": "stdout",
          "text": [
            "Mounted at /content/drive\n"
          ]
        }
      ]
    },
    {
      "cell_type": "code",
      "source": [
        "!ls"
      ],
      "metadata": {
        "colab": {
          "base_uri": "https://localhost:8080/"
        },
        "id": "L__zB3oBDDNs",
        "outputId": "33fae3a9-7b2f-4ab8-dbb4-4ad46ade8d87"
      },
      "execution_count": null,
      "outputs": [
        {
          "output_type": "stream",
          "name": "stdout",
          "text": [
            "drive  sample_data\n"
          ]
        }
      ]
    },
    {
      "cell_type": "code",
      "source": [
        "%cd /content/drive/My Drive/Fashion MNIST"
      ],
      "metadata": {
        "colab": {
          "base_uri": "https://localhost:8080/"
        },
        "id": "eS2jjcxvDUOf",
        "outputId": "d3dc4553-0991-4707-9f53-42ddc1457bee"
      },
      "execution_count": null,
      "outputs": [
        {
          "output_type": "stream",
          "name": "stdout",
          "text": [
            "/content/drive/My Drive/Fashion MNIST\n"
          ]
        }
      ]
    },
    {
      "cell_type": "markdown",
      "source": [
        "**Parameters**"
      ],
      "metadata": {
        "id": "-N0GCz8lNY4Y"
      }
    },
    {
      "cell_type": "code",
      "source": [
        "IMG_ROWS = 28\n",
        "IMG_COLS = 28\n",
        "NUM_CLASSES = 10\n",
        "TEST_SIZE = 0.2\n",
        "RANDOM_STATE = 2018\n",
        "#Model\n",
        "NO_EPOCHS = 20\n",
        "BATCH_SIZE = 128\n",
        "\n",
        "IS_LOCAL = False"
      ],
      "metadata": {
        "id": "HIaOtFtdFpLP"
      },
      "execution_count": null,
      "outputs": []
    },
    {
      "cell_type": "markdown",
      "source": [
        "There are 10 different classes of images, as following:\n",
        "\n",
        "0: T-shirt/top;\n",
        "1: Trouser;\n",
        "2: Pullover;\n",
        "3: Dress;\n",
        "4: Coat;\n",
        "5: Sandal;\n",
        "6: Shirt;\n",
        "7: Sneaker;\n",
        "8: Bag;\n",
        "9: Ankle boot.\n",
        "Image dimmensions are 28x28.\n",
        "\n",
        "The train set and test set are given in two separate datasets."
      ],
      "metadata": {
        "id": "g6Cw_i1BNitW"
      }
    },
    {
      "cell_type": "code",
      "source": [
        "train_file = \"fashion-mnist_train.csv\"\n",
        "test_file  = \"fashion-mnist_test.csv\"\n",
        "\n",
        "train_data = pd.read_csv(train_file)\n",
        "test_data = pd.read_csv(test_file)"
      ],
      "metadata": {
        "id": "RWEuRQHEExxD"
      },
      "execution_count": null,
      "outputs": []
    },
    {
      "cell_type": "code",
      "source": [
        "train_data.tail(10)"
      ],
      "metadata": {
        "colab": {
          "base_uri": "https://localhost:8080/",
          "height": 456
        },
        "id": "P8GCJCcSFklT",
        "outputId": "1eed123e-60c1-469c-f421-1328a2169d6c"
      },
      "execution_count": null,
      "outputs": [
        {
          "output_type": "execute_result",
          "data": {
            "text/plain": [
              "       label  pixel1  pixel2  pixel3  pixel4  pixel5  pixel6  pixel7  pixel8  \\\n",
              "59990      0       0       0       0       0       0       0       0       0   \n",
              "59991      5       0       0       0       0       0       0       0       0   \n",
              "59992      5       0       0       0       0       0       0       0       0   \n",
              "59993      2       0       0       0       0       0       0       1       0   \n",
              "59994      9       0       0       0       0       0       0       0       0   \n",
              "59995      9       0       0       0       0       0       0       0       0   \n",
              "59996      1       0       0       0       0       0       0       0       0   \n",
              "59997      8       0       0       0       0       0       0       0       0   \n",
              "59998      8       0       0       0       0       0       0       0       0   \n",
              "59999      7       0       0       0       0       0       0       0       0   \n",
              "\n",
              "       pixel9  ...  pixel775  pixel776  pixel777  pixel778  pixel779  \\\n",
              "59990       0  ...       154       161       165        83         0   \n",
              "59991       0  ...         0         0         0         0         0   \n",
              "59992       0  ...         0         0         0         0         0   \n",
              "59993       0  ...         0         0         0         0       141   \n",
              "59994       0  ...         0         0         0         0         0   \n",
              "59995       0  ...         0         0         0         0         0   \n",
              "59996       0  ...        73         0         0         0         0   \n",
              "59997       0  ...       160       162       163       135        94   \n",
              "59998       0  ...         0         0         0         0         0   \n",
              "59999       0  ...         0         0         0         0         0   \n",
              "\n",
              "       pixel780  pixel781  pixel782  pixel783  pixel784  \n",
              "59990         5         0         0         0         0  \n",
              "59991         0         0         0         0         0  \n",
              "59992         0         0         0         0         0  \n",
              "59993       113         9         0         0         0  \n",
              "59994         0         0         0         0         0  \n",
              "59995         0         0         0         0         0  \n",
              "59996         0         0         0         0         0  \n",
              "59997         0         0         0         0         0  \n",
              "59998         0         0         0         0         0  \n",
              "59999         0         0         0         0         0  \n",
              "\n",
              "[10 rows x 785 columns]"
            ],
            "text/html": [
              "\n",
              "  <div id=\"df-e7fca0d6-f787-4c74-8a83-c27c99007419\">\n",
              "    <div class=\"colab-df-container\">\n",
              "      <div>\n",
              "<style scoped>\n",
              "    .dataframe tbody tr th:only-of-type {\n",
              "        vertical-align: middle;\n",
              "    }\n",
              "\n",
              "    .dataframe tbody tr th {\n",
              "        vertical-align: top;\n",
              "    }\n",
              "\n",
              "    .dataframe thead th {\n",
              "        text-align: right;\n",
              "    }\n",
              "</style>\n",
              "<table border=\"1\" class=\"dataframe\">\n",
              "  <thead>\n",
              "    <tr style=\"text-align: right;\">\n",
              "      <th></th>\n",
              "      <th>label</th>\n",
              "      <th>pixel1</th>\n",
              "      <th>pixel2</th>\n",
              "      <th>pixel3</th>\n",
              "      <th>pixel4</th>\n",
              "      <th>pixel5</th>\n",
              "      <th>pixel6</th>\n",
              "      <th>pixel7</th>\n",
              "      <th>pixel8</th>\n",
              "      <th>pixel9</th>\n",
              "      <th>...</th>\n",
              "      <th>pixel775</th>\n",
              "      <th>pixel776</th>\n",
              "      <th>pixel777</th>\n",
              "      <th>pixel778</th>\n",
              "      <th>pixel779</th>\n",
              "      <th>pixel780</th>\n",
              "      <th>pixel781</th>\n",
              "      <th>pixel782</th>\n",
              "      <th>pixel783</th>\n",
              "      <th>pixel784</th>\n",
              "    </tr>\n",
              "  </thead>\n",
              "  <tbody>\n",
              "    <tr>\n",
              "      <th>59990</th>\n",
              "      <td>0</td>\n",
              "      <td>0</td>\n",
              "      <td>0</td>\n",
              "      <td>0</td>\n",
              "      <td>0</td>\n",
              "      <td>0</td>\n",
              "      <td>0</td>\n",
              "      <td>0</td>\n",
              "      <td>0</td>\n",
              "      <td>0</td>\n",
              "      <td>...</td>\n",
              "      <td>154</td>\n",
              "      <td>161</td>\n",
              "      <td>165</td>\n",
              "      <td>83</td>\n",
              "      <td>0</td>\n",
              "      <td>5</td>\n",
              "      <td>0</td>\n",
              "      <td>0</td>\n",
              "      <td>0</td>\n",
              "      <td>0</td>\n",
              "    </tr>\n",
              "    <tr>\n",
              "      <th>59991</th>\n",
              "      <td>5</td>\n",
              "      <td>0</td>\n",
              "      <td>0</td>\n",
              "      <td>0</td>\n",
              "      <td>0</td>\n",
              "      <td>0</td>\n",
              "      <td>0</td>\n",
              "      <td>0</td>\n",
              "      <td>0</td>\n",
              "      <td>0</td>\n",
              "      <td>...</td>\n",
              "      <td>0</td>\n",
              "      <td>0</td>\n",
              "      <td>0</td>\n",
              "      <td>0</td>\n",
              "      <td>0</td>\n",
              "      <td>0</td>\n",
              "      <td>0</td>\n",
              "      <td>0</td>\n",
              "      <td>0</td>\n",
              "      <td>0</td>\n",
              "    </tr>\n",
              "    <tr>\n",
              "      <th>59992</th>\n",
              "      <td>5</td>\n",
              "      <td>0</td>\n",
              "      <td>0</td>\n",
              "      <td>0</td>\n",
              "      <td>0</td>\n",
              "      <td>0</td>\n",
              "      <td>0</td>\n",
              "      <td>0</td>\n",
              "      <td>0</td>\n",
              "      <td>0</td>\n",
              "      <td>...</td>\n",
              "      <td>0</td>\n",
              "      <td>0</td>\n",
              "      <td>0</td>\n",
              "      <td>0</td>\n",
              "      <td>0</td>\n",
              "      <td>0</td>\n",
              "      <td>0</td>\n",
              "      <td>0</td>\n",
              "      <td>0</td>\n",
              "      <td>0</td>\n",
              "    </tr>\n",
              "    <tr>\n",
              "      <th>59993</th>\n",
              "      <td>2</td>\n",
              "      <td>0</td>\n",
              "      <td>0</td>\n",
              "      <td>0</td>\n",
              "      <td>0</td>\n",
              "      <td>0</td>\n",
              "      <td>0</td>\n",
              "      <td>1</td>\n",
              "      <td>0</td>\n",
              "      <td>0</td>\n",
              "      <td>...</td>\n",
              "      <td>0</td>\n",
              "      <td>0</td>\n",
              "      <td>0</td>\n",
              "      <td>0</td>\n",
              "      <td>141</td>\n",
              "      <td>113</td>\n",
              "      <td>9</td>\n",
              "      <td>0</td>\n",
              "      <td>0</td>\n",
              "      <td>0</td>\n",
              "    </tr>\n",
              "    <tr>\n",
              "      <th>59994</th>\n",
              "      <td>9</td>\n",
              "      <td>0</td>\n",
              "      <td>0</td>\n",
              "      <td>0</td>\n",
              "      <td>0</td>\n",
              "      <td>0</td>\n",
              "      <td>0</td>\n",
              "      <td>0</td>\n",
              "      <td>0</td>\n",
              "      <td>0</td>\n",
              "      <td>...</td>\n",
              "      <td>0</td>\n",
              "      <td>0</td>\n",
              "      <td>0</td>\n",
              "      <td>0</td>\n",
              "      <td>0</td>\n",
              "      <td>0</td>\n",
              "      <td>0</td>\n",
              "      <td>0</td>\n",
              "      <td>0</td>\n",
              "      <td>0</td>\n",
              "    </tr>\n",
              "    <tr>\n",
              "      <th>59995</th>\n",
              "      <td>9</td>\n",
              "      <td>0</td>\n",
              "      <td>0</td>\n",
              "      <td>0</td>\n",
              "      <td>0</td>\n",
              "      <td>0</td>\n",
              "      <td>0</td>\n",
              "      <td>0</td>\n",
              "      <td>0</td>\n",
              "      <td>0</td>\n",
              "      <td>...</td>\n",
              "      <td>0</td>\n",
              "      <td>0</td>\n",
              "      <td>0</td>\n",
              "      <td>0</td>\n",
              "      <td>0</td>\n",
              "      <td>0</td>\n",
              "      <td>0</td>\n",
              "      <td>0</td>\n",
              "      <td>0</td>\n",
              "      <td>0</td>\n",
              "    </tr>\n",
              "    <tr>\n",
              "      <th>59996</th>\n",
              "      <td>1</td>\n",
              "      <td>0</td>\n",
              "      <td>0</td>\n",
              "      <td>0</td>\n",
              "      <td>0</td>\n",
              "      <td>0</td>\n",
              "      <td>0</td>\n",
              "      <td>0</td>\n",
              "      <td>0</td>\n",
              "      <td>0</td>\n",
              "      <td>...</td>\n",
              "      <td>73</td>\n",
              "      <td>0</td>\n",
              "      <td>0</td>\n",
              "      <td>0</td>\n",
              "      <td>0</td>\n",
              "      <td>0</td>\n",
              "      <td>0</td>\n",
              "      <td>0</td>\n",
              "      <td>0</td>\n",
              "      <td>0</td>\n",
              "    </tr>\n",
              "    <tr>\n",
              "      <th>59997</th>\n",
              "      <td>8</td>\n",
              "      <td>0</td>\n",
              "      <td>0</td>\n",
              "      <td>0</td>\n",
              "      <td>0</td>\n",
              "      <td>0</td>\n",
              "      <td>0</td>\n",
              "      <td>0</td>\n",
              "      <td>0</td>\n",
              "      <td>0</td>\n",
              "      <td>...</td>\n",
              "      <td>160</td>\n",
              "      <td>162</td>\n",
              "      <td>163</td>\n",
              "      <td>135</td>\n",
              "      <td>94</td>\n",
              "      <td>0</td>\n",
              "      <td>0</td>\n",
              "      <td>0</td>\n",
              "      <td>0</td>\n",
              "      <td>0</td>\n",
              "    </tr>\n",
              "    <tr>\n",
              "      <th>59998</th>\n",
              "      <td>8</td>\n",
              "      <td>0</td>\n",
              "      <td>0</td>\n",
              "      <td>0</td>\n",
              "      <td>0</td>\n",
              "      <td>0</td>\n",
              "      <td>0</td>\n",
              "      <td>0</td>\n",
              "      <td>0</td>\n",
              "      <td>0</td>\n",
              "      <td>...</td>\n",
              "      <td>0</td>\n",
              "      <td>0</td>\n",
              "      <td>0</td>\n",
              "      <td>0</td>\n",
              "      <td>0</td>\n",
              "      <td>0</td>\n",
              "      <td>0</td>\n",
              "      <td>0</td>\n",
              "      <td>0</td>\n",
              "      <td>0</td>\n",
              "    </tr>\n",
              "    <tr>\n",
              "      <th>59999</th>\n",
              "      <td>7</td>\n",
              "      <td>0</td>\n",
              "      <td>0</td>\n",
              "      <td>0</td>\n",
              "      <td>0</td>\n",
              "      <td>0</td>\n",
              "      <td>0</td>\n",
              "      <td>0</td>\n",
              "      <td>0</td>\n",
              "      <td>0</td>\n",
              "      <td>...</td>\n",
              "      <td>0</td>\n",
              "      <td>0</td>\n",
              "      <td>0</td>\n",
              "      <td>0</td>\n",
              "      <td>0</td>\n",
              "      <td>0</td>\n",
              "      <td>0</td>\n",
              "      <td>0</td>\n",
              "      <td>0</td>\n",
              "      <td>0</td>\n",
              "    </tr>\n",
              "  </tbody>\n",
              "</table>\n",
              "<p>10 rows × 785 columns</p>\n",
              "</div>\n",
              "      <button class=\"colab-df-convert\" onclick=\"convertToInteractive('df-e7fca0d6-f787-4c74-8a83-c27c99007419')\"\n",
              "              title=\"Convert this dataframe to an interactive table.\"\n",
              "              style=\"display:none;\">\n",
              "        \n",
              "  <svg xmlns=\"http://www.w3.org/2000/svg\" height=\"24px\"viewBox=\"0 0 24 24\"\n",
              "       width=\"24px\">\n",
              "    <path d=\"M0 0h24v24H0V0z\" fill=\"none\"/>\n",
              "    <path d=\"M18.56 5.44l.94 2.06.94-2.06 2.06-.94-2.06-.94-.94-2.06-.94 2.06-2.06.94zm-11 1L8.5 8.5l.94-2.06 2.06-.94-2.06-.94L8.5 2.5l-.94 2.06-2.06.94zm10 10l.94 2.06.94-2.06 2.06-.94-2.06-.94-.94-2.06-.94 2.06-2.06.94z\"/><path d=\"M17.41 7.96l-1.37-1.37c-.4-.4-.92-.59-1.43-.59-.52 0-1.04.2-1.43.59L10.3 9.45l-7.72 7.72c-.78.78-.78 2.05 0 2.83L4 21.41c.39.39.9.59 1.41.59.51 0 1.02-.2 1.41-.59l7.78-7.78 2.81-2.81c.8-.78.8-2.07 0-2.86zM5.41 20L4 18.59l7.72-7.72 1.47 1.35L5.41 20z\"/>\n",
              "  </svg>\n",
              "      </button>\n",
              "      \n",
              "  <style>\n",
              "    .colab-df-container {\n",
              "      display:flex;\n",
              "      flex-wrap:wrap;\n",
              "      gap: 12px;\n",
              "    }\n",
              "\n",
              "    .colab-df-convert {\n",
              "      background-color: #E8F0FE;\n",
              "      border: none;\n",
              "      border-radius: 50%;\n",
              "      cursor: pointer;\n",
              "      display: none;\n",
              "      fill: #1967D2;\n",
              "      height: 32px;\n",
              "      padding: 0 0 0 0;\n",
              "      width: 32px;\n",
              "    }\n",
              "\n",
              "    .colab-df-convert:hover {\n",
              "      background-color: #E2EBFA;\n",
              "      box-shadow: 0px 1px 2px rgba(60, 64, 67, 0.3), 0px 1px 3px 1px rgba(60, 64, 67, 0.15);\n",
              "      fill: #174EA6;\n",
              "    }\n",
              "\n",
              "    [theme=dark] .colab-df-convert {\n",
              "      background-color: #3B4455;\n",
              "      fill: #D2E3FC;\n",
              "    }\n",
              "\n",
              "    [theme=dark] .colab-df-convert:hover {\n",
              "      background-color: #434B5C;\n",
              "      box-shadow: 0px 1px 3px 1px rgba(0, 0, 0, 0.15);\n",
              "      filter: drop-shadow(0px 1px 2px rgba(0, 0, 0, 0.3));\n",
              "      fill: #FFFFFF;\n",
              "    }\n",
              "  </style>\n",
              "\n",
              "      <script>\n",
              "        const buttonEl =\n",
              "          document.querySelector('#df-e7fca0d6-f787-4c74-8a83-c27c99007419 button.colab-df-convert');\n",
              "        buttonEl.style.display =\n",
              "          google.colab.kernel.accessAllowed ? 'block' : 'none';\n",
              "\n",
              "        async function convertToInteractive(key) {\n",
              "          const element = document.querySelector('#df-e7fca0d6-f787-4c74-8a83-c27c99007419');\n",
              "          const dataTable =\n",
              "            await google.colab.kernel.invokeFunction('convertToInteractive',\n",
              "                                                     [key], {});\n",
              "          if (!dataTable) return;\n",
              "\n",
              "          const docLinkHtml = 'Like what you see? Visit the ' +\n",
              "            '<a target=\"_blank\" href=https://colab.research.google.com/notebooks/data_table.ipynb>data table notebook</a>'\n",
              "            + ' to learn more about interactive tables.';\n",
              "          element.innerHTML = '';\n",
              "          dataTable['output_type'] = 'display_data';\n",
              "          await google.colab.output.renderOutput(dataTable, element);\n",
              "          const docLink = document.createElement('div');\n",
              "          docLink.innerHTML = docLinkHtml;\n",
              "          element.appendChild(docLink);\n",
              "        }\n",
              "      </script>\n",
              "    </div>\n",
              "  </div>\n",
              "  "
            ]
          },
          "metadata": {},
          "execution_count": 10
        }
      ]
    },
    {
      "cell_type": "markdown",
      "source": [
        "**Dimension of Train and Test Dataset**"
      ],
      "metadata": {
        "id": "4bjq5iUtN2Si"
      }
    },
    {
      "cell_type": "code",
      "source": [
        "print(\"Fashion MNIST train -  rows:\",train_data.shape[0],\" columns:\", train_data.shape[1])\n",
        "print(\"Fashion MNIST test -  rows:\",test_data.shape[0],\" columns:\", test_data.shape[1])"
      ],
      "metadata": {
        "colab": {
          "base_uri": "https://localhost:8080/"
        },
        "id": "qBuZerrjFsqZ",
        "outputId": "d8facbd2-da6b-4ba6-d6c6-31f426e640f1"
      },
      "execution_count": null,
      "outputs": [
        {
          "output_type": "stream",
          "name": "stdout",
          "text": [
            "Fashion MNIST train -  rows: 60000  columns: 785\n",
            "Fashion MNIST test -  rows: 10000  columns: 785\n"
          ]
        }
      ]
    },
    {
      "cell_type": "markdown",
      "source": [
        "In this section, we will look into how many images exists in the dataset per class."
      ],
      "metadata": {
        "id": "P4kcSouLOAty"
      }
    },
    {
      "cell_type": "code",
      "source": [
        "# Create a dictionary for each type of label \n",
        "labels = {0 : \"T-shirt/top\", 1: \"Trouser\", 2: \"Pullover\", 3: \"Dress\", 4: \"Coat\",\n",
        "          5: \"Sandal\", 6: \"Shirt\", 7: \"Sneaker\", 8: \"Bag\", 9: \"Ankle Boot\"}\n",
        "\n",
        "def get_classes_distribution(data):\n",
        "    # Get the count for each label\n",
        "    label_counts = data[\"label\"].value_counts()\n",
        "\n",
        "    # Get total number of samples\n",
        "    total_samples = len(data)\n",
        "\n",
        "\n",
        "    # Count the number of items in each class\n",
        "    for i in range(len(label_counts)):\n",
        "        label = labels[label_counts.index[i]]\n",
        "        count = label_counts.values[i]\n",
        "        percent = (count / total_samples) * 100\n",
        "        print(\"{:<20s}:   {} or {}%\".format(label, count, percent))\n",
        "\n",
        "get_classes_distribution(train_data)"
      ],
      "metadata": {
        "colab": {
          "base_uri": "https://localhost:8080/"
        },
        "id": "ep43wshAF0b-",
        "outputId": "b18d15c8-c6ac-4633-a518-0016f73e4548"
      },
      "execution_count": null,
      "outputs": [
        {
          "output_type": "stream",
          "name": "stdout",
          "text": [
            "Pullover            :   6000 or 10.0%\n",
            "Ankle Boot          :   6000 or 10.0%\n",
            "Shirt               :   6000 or 10.0%\n",
            "T-shirt/top         :   6000 or 10.0%\n",
            "Dress               :   6000 or 10.0%\n",
            "Coat                :   6000 or 10.0%\n",
            "Sandal              :   6000 or 10.0%\n",
            "Bag                 :   6000 or 10.0%\n",
            "Sneaker             :   6000 or 10.0%\n",
            "Trouser             :   6000 or 10.0%\n"
          ]
        }
      ]
    },
    {
      "cell_type": "code",
      "source": [
        "def plot_label_per_class(data):\n",
        "    f, ax = plt.subplots(1,1, figsize=(12,4))\n",
        "    g = sns.countplot(data.label, order = data[\"label\"].value_counts().index)\n",
        "    g.set_title(\"Number of labels for each class\")\n",
        "\n",
        "    for p, label in zip(g.patches, data[\"label\"].value_counts().index):\n",
        "        g.annotate(labels[label], (p.get_x(), p.get_height()+0.1))\n",
        "    plt.show()  \n",
        "    \n",
        "plot_label_per_class(train_data)\n"
      ],
      "metadata": {
        "colab": {
          "base_uri": "https://localhost:8080/",
          "height": 384
        },
        "id": "DnjVCTX8GIZz",
        "outputId": "473090cb-e310-484d-c0b2-5b1eb3b70561"
      },
      "execution_count": null,
      "outputs": [
        {
          "output_type": "stream",
          "name": "stderr",
          "text": [
            "/usr/local/lib/python3.8/dist-packages/seaborn/_decorators.py:36: FutureWarning:\n",
            "\n",
            "Pass the following variable as a keyword arg: x. From version 0.12, the only valid positional argument will be `data`, and passing other arguments without an explicit keyword will result in an error or misinterpretation.\n",
            "\n"
          ]
        },
        {
          "output_type": "display_data",
          "data": {
            "text/plain": [
              "<Figure size 864x288 with 1 Axes>"
            ],
            "image/png": "[encoded data removed]"
          },
          "metadata": {
            "needs_background": "light"
          }
        }
      ]
    },
    {
      "cell_type": "markdown",
      "source": [
        "**Test set images class distribution**"
      ],
      "metadata": {
        "id": "5EAAymopPJUc"
      }
    },
    {
      "cell_type": "code",
      "source": [
        "get_classes_distribution(test_data)\n"
      ],
      "metadata": {
        "colab": {
          "base_uri": "https://localhost:8080/"
        },
        "id": "sm76g5k2GQpd",
        "outputId": "5754ee72-3a04-4be2-bec5-fbffe813078e"
      },
      "execution_count": null,
      "outputs": [
        {
          "output_type": "stream",
          "name": "stdout",
          "text": [
            "T-shirt/top         :   1000 or 10.0%\n",
            "Trouser             :   1000 or 10.0%\n",
            "Pullover            :   1000 or 10.0%\n",
            "Dress               :   1000 or 10.0%\n",
            "Bag                 :   1000 or 10.0%\n",
            "Shirt               :   1000 or 10.0%\n",
            "Sandal              :   1000 or 10.0%\n",
            "Coat                :   1000 or 10.0%\n",
            "Sneaker             :   1000 or 10.0%\n",
            "Ankle Boot          :   1000 or 10.0%\n"
          ]
        }
      ]
    },
    {
      "cell_type": "markdown",
      "source": [
        "Also in the test set the 10 classes are equaly distributed (10% each).\n",
        "\n",
        "Lets' also plot the class distribution."
      ],
      "metadata": {
        "id": "1nDW6NHQPTH7"
      }
    },
    {
      "cell_type": "code",
      "source": [
        "plot_label_per_class(test_data)"
      ],
      "metadata": {
        "colab": {
          "base_uri": "https://localhost:8080/",
          "height": 384
        },
        "id": "CO_6xFg8GUfu",
        "outputId": "21b5d9ee-419d-4781-ddec-a4fe2a6d154c"
      },
      "execution_count": null,
      "outputs": [
        {
          "output_type": "stream",
          "name": "stderr",
          "text": [
            "/usr/local/lib/python3.8/dist-packages/seaborn/_decorators.py:36: FutureWarning:\n",
            "\n",
            "Pass the following variable as a keyword arg: x. From version 0.12, the only valid positional argument will be `data`, and passing other arguments without an explicit keyword will result in an error or misinterpretation.\n",
            "\n"
          ]
        },
        {
          "output_type": "display_data",
          "data": {
            "text/plain": [
              "<Figure size 864x288 with 1 Axes>"
            ],
            "image/png": "[encoded data removed]"
          },
          "metadata": {
            "needs_background": "light"
          }
        }
      ]
    },
    {
      "cell_type": "markdown",
      "source": [
        "**Train set images**\n",
        "\n",
        "---\n",
        "Let's plot some samples for the images.\n",
        "We add labels to the train set images, with the corresponding fashion item category.\n"
      ],
      "metadata": {
        "id": "GGxfEU-BPopu"
      }
    },
    {
      "cell_type": "code",
      "source": [
        "def sample_images_data(data):\n",
        "    # An empty list to collect some samples\n",
        "    sample_images = []\n",
        "    sample_labels = []\n",
        "\n",
        "    # Iterate over the keys of the labels dictionary defined in the above cell\n",
        "    for k in labels.keys():\n",
        "        # Get four samples for each category\n",
        "        samples = data[data[\"label\"] == k].head(4)\n",
        "        # Append the samples to the samples list\n",
        "        for j, s in enumerate(samples.values):\n",
        "            # First column contain labels, hence index should start from 1\n",
        "            img = np.array(samples.iloc[j, 1:]).reshape(IMG_ROWS,IMG_COLS)\n",
        "            sample_images.append(img)\n",
        "            sample_labels.append(samples.iloc[j, 0])\n",
        "\n",
        "    print(\"Total number of sample images to plot: \", len(sample_images))\n",
        "    return sample_images, sample_labels\n",
        "\n",
        "train_sample_images, train_sample_labels = sample_images_data(train_data)"
      ],
      "metadata": {
        "colab": {
          "base_uri": "https://localhost:8080/"
        },
        "id": "h3iOocTrGbAG",
        "outputId": "b13ab153-c1d7-4576-8d07-0ac307947f2b"
      },
      "execution_count": null,
      "outputs": [
        {
          "output_type": "stream",
          "name": "stdout",
          "text": [
            "Total number of sample images to plot:  40\n"
          ]
        }
      ]
    },
    {
      "cell_type": "markdown",
      "source": [
        "Let's now plot the images.\n",
        "The labels are shown above each image."
      ],
      "metadata": {
        "id": "zbabAc68Qdyo"
      }
    },
    {
      "cell_type": "code",
      "source": [
        "def plot_sample_images(data_sample_images,data_sample_labels,cmap=\"Blues\"):\n",
        "    # Plot the sample images now\n",
        "    f, ax = plt.subplots(5,8, figsize=(16,10))\n",
        "\n",
        "    for i, img in enumerate(data_sample_images):\n",
        "        ax[i//8, i%8].imshow(img, cmap=cmap)\n",
        "        ax[i//8, i%8].axis('off')\n",
        "        ax[i//8, i%8].set_title(labels[data_sample_labels[i]])\n",
        "    plt.show()    \n",
        "    \n",
        "plot_sample_images(train_sample_images,train_sample_labels, \"Reds\")"
      ],
      "metadata": {
        "colab": {
          "base_uri": "https://localhost:8080/",
          "height": 591
        },
        "id": "EDlfdXNcGhLu",
        "outputId": "df9ccae3-370f-4e8e-871c-470264666abe"
      },
      "execution_count": null,
      "outputs": [
        {
          "output_type": "display_data",
          "data": {
            "text/plain": [
              "<Figure size 1152x720 with 40 Axes>"
            ],
            "image/png": "[encoded data removed]"
          },
          "metadata": {
            "needs_background": "light"
          }
        }
      ]
    },
    {
      "cell_type": "markdown",
      "source": [
        "# Test set images\n",
        "Let's plot now a selection of the test set images.\n",
        "Labels are as well added (they are known)."
      ],
      "metadata": {
        "id": "iQrFAsLvQlet"
      }
    },
    {
      "cell_type": "code",
      "source": [
        "test_sample_images, test_sample_labels = sample_images_data(test_data)\n",
        "plot_sample_images(test_sample_images,test_sample_labels)"
      ],
      "metadata": {
        "colab": {
          "base_uri": "https://localhost:8080/",
          "height": 608
        },
        "id": "XGK-RpaXGwRN",
        "outputId": "8c039130-ff70-4e51-bc4d-84c8078cc316"
      },
      "execution_count": null,
      "outputs": [
        {
          "output_type": "stream",
          "name": "stdout",
          "text": [
            "Total number of sample images to plot:  40\n"
          ]
        },
        {
          "output_type": "display_data",
          "data": {
            "text/plain": [
              "<Figure size 1152x720 with 40 Axes>"
            ],
            "image/png": "[encoded data removed]"
          },
          "metadata": {
            "needs_background": "light"
          }
        }
      ]
    },
    {
      "cell_type": "markdown",
      "source": [
        "# Data preprocessing"
      ],
      "metadata": {
        "id": "oBXlnd2oRVnd"
      }
    },
    {
      "cell_type": "markdown",
      "source": [
        "First we will do a data preprocessing to prepare for the model.\n",
        "\n",
        "We reshape the columns from (784) to (28,28,1). We also save label (target) feature as a separate vector."
      ],
      "metadata": {
        "id": "sEjxKryoRnU9"
      }
    },
    {
      "cell_type": "code",
      "source": [
        "from keras.utils import np_utils\n",
        "\n",
        "# data preprocessing\n",
        "def data_preprocessing(raw):\n",
        "    out_y = np_utils.to_categorical(raw.label, NUM_CLASSES)\n",
        "    num_images = raw.shape[0]\n",
        "    x_as_array = raw.values[:,1:]\n",
        "    x_shaped_array = x_as_array.reshape(num_images, IMG_ROWS, IMG_COLS, 1)\n",
        "    out_x = x_shaped_array / 255\n",
        "    return out_x, out_y"
      ],
      "metadata": {
        "id": "0TQqg7ACG9ux"
      },
      "execution_count": null,
      "outputs": []
    },
    {
      "cell_type": "markdown",
      "source": [
        "using the function data_preprocessing we prepared both the test and train data"
      ],
      "metadata": {
        "id": "P3Sf2ySyRv13"
      }
    },
    {
      "cell_type": "code",
      "source": [
        "# prepare the data\n",
        "X, y = data_preprocessing(train_data)\n",
        "X_test, y_test = data_preprocessing(test_data)"
      ],
      "metadata": {
        "id": "4cGxCLgZHEwL"
      },
      "execution_count": null,
      "outputs": []
    },
    {
      "cell_type": "markdown",
      "source": [
        "# Split train in train and validation set: \n",
        "\n",
        "We further split the train set in train and validation set. The validation set will be 20% from the original train set, therefore the split will be train/validation of 0.8/0.2."
      ],
      "metadata": {
        "id": "H63xViZFSC8-"
      }
    },
    {
      "cell_type": "code",
      "source": [
        "X_train, X_val, y_train, y_val = train_test_split(X, y, test_size=TEST_SIZE, random_state=RANDOM_STATE)"
      ],
      "metadata": {
        "id": "ZzSB93ZZII6f"
      },
      "execution_count": null,
      "outputs": []
    },
    {
      "cell_type": "markdown",
      "source": [
        "The dimmension of the processed train, validation and test set are as following:"
      ],
      "metadata": {
        "id": "AryQ8Cc1SVDI"
      }
    },
    {
      "cell_type": "code",
      "source": [
        "print(\"Fashion MNIST train -  rows:\",X_train.shape[0],\" columns:\", X_train.shape[1:4])\n",
        "print(\"Fashion MNIST valid -  rows:\",X_val.shape[0],\" columns:\", X_val.shape[1:4])\n",
        "print(\"Fashion MNIST test -  rows:\",X_test.shape[0],\" columns:\", X_test.shape[1:4])"
      ],
      "metadata": {
        "colab": {
          "base_uri": "https://localhost:8080/"
        },
        "id": "GeYmqwnvIKZE",
        "outputId": "4b4ccc9c-e0ea-4d00-d4fe-bd8f33255287"
      },
      "execution_count": null,
      "outputs": [
        {
          "output_type": "stream",
          "name": "stdout",
          "text": [
            "Fashion MNIST train -  rows: 48000  columns: (28, 28, 1)\n",
            "Fashion MNIST valid -  rows: 12000  columns: (28, 28, 1)\n",
            "Fashion MNIST test -  rows: 10000  columns: (28, 28, 1)\n"
          ]
        }
      ]
    },
    {
      "cell_type": "markdown",
      "source": [
        "# TRAIN THE MODEL"
      ],
      "metadata": {
        "id": "vDkE6t4oSrZu"
      }
    },
    {
      "cell_type": "markdown",
      "source": [
        "# Build the model\n",
        "We will use a Sequential model.\n",
        "\n",
        "The Sequential model is a linear stack of layers. It can be first initialized and then we add layers using add method or we can add all layers at init stage. The layers added are as follows:\n",
        "\n",
        "**Conv2D** is a 2D Convolutional layer (i.e. spatial convolution over images). The parameters used are:\n",
        "\n",
        "**filters** - the number of filters (Kernels) used with this layer; here filters = 32;\n",
        "\n",
        "**kernel_size** - the dimmension of the Kernel: (3 x 3);\n",
        "\n",
        "**activation** - is the activation function used, in this case **relu**;\n",
        "\n",
        "**kernel_initializer** - the function used for initializing the kernel;\n",
        "\n",
        "**input_shape** - is the shape of the image presented to the CNN: in our case is 28 x 28 The input and output of the Conv2D is a 4D tensor.\n",
        "\n",
        "\n",
        "**MaxPooling2D** is a Max pooling operation for spatial data. Parameters used here are:\n",
        "\n",
        "**pool_size**, in this case (2,2), representing the factors by which to downscale in both directions;\n",
        "\n",
        "**Conv2D** with the following parameters:\n",
        "\n",
        "**filters**: 64;\n",
        "\n",
        "**kernel_size** : (3 x 3);\n",
        "\n",
        "**activation** : relu;\n",
        "\n",
        "**MaxPooling2D with parameter:**\n",
        "\n",
        "**pool_size** : (2,2);\n",
        "\n",
        "Conv2D with the following parameters:\n",
        "\n",
        "filters: 128;\n",
        "\n",
        "kernel_size : (3 x 3);\n",
        "\n",
        "activation : relu;\n",
        "\n",
        "**Flatten**: This layer Flattens the input. Does not affect the batch size. It is used without parameters;\n",
        "\n",
        "\n",
        "**Dense**: This layer is a regular fully-connected NN layer. It is used without parameters;\n",
        "\n",
        "\n",
        "**units** - this is a positive integer, with the meaning: dimensionality of the output space; in this case is: 128;\n",
        "\n",
        "**activation** - activation function : relu;\n",
        "\n",
        "\n",
        "**Dense**: This is the final layer (fully connected). It is used with the parameters:\n",
        "\n",
        "**units**: the number of classes (in our case 10);\n",
        "\n",
        "activation : softmax; for this final layer it is used softmax activation (standard for multiclass classification).\n",
        "\n",
        "Then we compile the model, specifying as well the following parameters:\n",
        "\n",
        "loss;\n",
        "\n",
        "optimizer;\n",
        "\n",
        "metrics."
      ],
      "metadata": {
        "id": "NXEj66hqSp3R"
      }
    },
    {
      "cell_type": "code",
      "source": [
        "# Model\n",
        "model = Sequential()\n",
        "# Add convolution 2D\n",
        "model.add(Conv2D(32, kernel_size=(3, 3),\n",
        "                 activation='relu',\n",
        "                 kernel_initializer='he_normal',\n",
        "                 input_shape=(IMG_ROWS, IMG_COLS, 1)))\n",
        "model.add(MaxPooling2D((2, 2)))\n",
        "model.add(Conv2D(64, \n",
        "                 kernel_size=(3, 3), \n",
        "                 activation='relu'))\n",
        "model.add(MaxPooling2D(pool_size=(2, 2)))\n",
        "model.add(Conv2D(128, (3, 3), activation='relu'))\n",
        "model.add(Flatten())\n",
        "model.add(Dense(128, activation='relu'))\n",
        "model.add(Dense(NUM_CLASSES, activation='softmax'))\n",
        "\n",
        "\n",
        "model.compile(loss=keras.losses.categorical_crossentropy,\n",
        "              optimizer='adam',\n",
        "              metrics=['accuracy'])"
      ],
      "metadata": {
        "id": "f7L0oBsKIhyp"
      },
      "execution_count": null,
      "outputs": []
    },
    {
      "cell_type": "code",
      "source": [
        "model.summary()\n"
      ],
      "metadata": {
        "colab": {
          "base_uri": "https://localhost:8080/"
        },
        "id": "Hk7E2ZiuIwcd",
        "outputId": "7e5148d1-08e0-4d93-803d-3b3c73b2235d"
      },
      "execution_count": null,
      "outputs": [
        {
          "output_type": "stream",
          "name": "stdout",
          "text": [
            "Model: \"sequential\"\n",
            "_________________________________________________________________\n",
            "Layer (type)                 Output Shape              Param #   \n",
            "=================================================================\n",
            "conv2d (Conv2D)              (None, 26, 26, 32)        320       \n",
            "_________________________________________________________________\n",
            "max_pooling2d (MaxPooling2D) (None, 13, 13, 32)        0         \n",
            "_________________________________________________________________\n",
            "conv2d_1 (Conv2D)            (None, 11, 11, 64)        18496     \n",
            "_________________________________________________________________\n",
            "max_pooling2d_1 (MaxPooling2 (None, 5, 5, 64)          0         \n",
            "_________________________________________________________________\n",
            "conv2d_2 (Conv2D)            (None, 3, 3, 128)         73856     \n",
            "_________________________________________________________________\n",
            "flatten (Flatten)            (None, 1152)              0         \n",
            "_________________________________________________________________\n",
            "dense (Dense)                (None, 128)               147584    \n",
            "_________________________________________________________________\n",
            "dense_1 (Dense)              (None, 10)                1290      \n",
            "=================================================================\n",
            "Total params: 241,546\n",
            "Trainable params: 241,546\n",
            "Non-trainable params: 0\n",
            "_________________________________________________________________\n"
          ]
        }
      ]
    },
    {
      "cell_type": "markdown",
      "source": [
        "# Run The Model"
      ],
      "metadata": {
        "id": "MY_HOnsMUxR8"
      }
    },
    {
      "cell_type": "markdown",
      "source": [
        "We run the model with the training set. We are also using the validation set (a subset from the orginal training set) for validation."
      ],
      "metadata": {
        "id": "xrsVo6jAU1q1"
      }
    },
    {
      "cell_type": "code",
      "source": [
        "train_model = model.fit(X_train, y_train,\n",
        "                  batch_size=BATCH_SIZE,\n",
        "                  epochs=NO_EPOCHS,\n",
        "                  verbose=1,\n",
        "                  validation_data=(X_val, y_val))"
      ],
      "metadata": {
        "colab": {
          "base_uri": "https://localhost:8080/"
        },
        "id": "9o5aZNyjI5YX",
        "outputId": "9dba91e4-4dba-4f15-cd49-22179fba4641"
      },
      "execution_count": null,
      "outputs": [
        {
          "output_type": "stream",
          "name": "stdout",
          "text": [
            "Epoch 1/20\n",
            "375/375 [==============================] - 49s 127ms/step - loss: 0.5364 - accuracy: 0.8054 - val_loss: 0.3723 - val_accuracy: 0.8666\n",
            "Epoch 2/20\n",
            "375/375 [==============================] - 47s 126ms/step - loss: 0.3397 - accuracy: 0.8776 - val_loss: 0.3093 - val_accuracy: 0.8907\n",
            "Epoch 3/20\n",
            "375/375 [==============================] - 45s 120ms/step - loss: 0.2871 - accuracy: 0.8953 - val_loss: 0.3146 - val_accuracy: 0.8866\n",
            "Epoch 4/20\n",
            "375/375 [==============================] - 45s 120ms/step - loss: 0.2527 - accuracy: 0.9087 - val_loss: 0.3397 - val_accuracy: 0.8803\n",
            "Epoch 5/20\n",
            "375/375 [==============================] - 48s 129ms/step - loss: 0.2282 - accuracy: 0.9157 - val_loss: 0.2812 - val_accuracy: 0.8969\n",
            "Epoch 6/20\n",
            "375/375 [==============================] - 45s 119ms/step - loss: 0.1997 - accuracy: 0.9264 - val_loss: 0.2664 - val_accuracy: 0.9072\n",
            "Epoch 7/20\n",
            "375/375 [==============================] - 45s 119ms/step - loss: 0.1798 - accuracy: 0.9343 - val_loss: 0.2516 - val_accuracy: 0.9118\n",
            "Epoch 8/20\n",
            "375/375 [==============================] - 45s 120ms/step - loss: 0.1638 - accuracy: 0.9391 - val_loss: 0.2661 - val_accuracy: 0.9071\n",
            "Epoch 9/20\n",
            "375/375 [==============================] - 51s 135ms/step - loss: 0.1439 - accuracy: 0.9473 - val_loss: 0.2664 - val_accuracy: 0.9119\n",
            "Epoch 10/20\n",
            "375/375 [==============================] - 45s 119ms/step - loss: 0.1256 - accuracy: 0.9546 - val_loss: 0.2735 - val_accuracy: 0.9128\n",
            "Epoch 11/20\n",
            "375/375 [==============================] - 45s 120ms/step - loss: 0.1156 - accuracy: 0.9571 - val_loss: 0.2967 - val_accuracy: 0.9092\n",
            "Epoch 12/20\n",
            "375/375 [==============================] - 45s 121ms/step - loss: 0.1041 - accuracy: 0.9615 - val_loss: 0.3113 - val_accuracy: 0.9081\n",
            "Epoch 13/20\n",
            "375/375 [==============================] - 45s 120ms/step - loss: 0.0901 - accuracy: 0.9656 - val_loss: 0.3284 - val_accuracy: 0.9100\n",
            "Epoch 14/20\n",
            "375/375 [==============================] - 48s 129ms/step - loss: 0.0773 - accuracy: 0.9720 - val_loss: 0.3440 - val_accuracy: 0.9077\n",
            "Epoch 15/20\n",
            "375/375 [==============================] - 45s 119ms/step - loss: 0.0681 - accuracy: 0.9749 - val_loss: 0.3524 - val_accuracy: 0.9087\n",
            "Epoch 16/20\n",
            "375/375 [==============================] - 45s 119ms/step - loss: 0.0639 - accuracy: 0.9764 - val_loss: 0.3881 - val_accuracy: 0.9083\n",
            "Epoch 17/20\n",
            "375/375 [==============================] - 45s 120ms/step - loss: 0.0527 - accuracy: 0.9803 - val_loss: 0.3669 - val_accuracy: 0.9116\n",
            "Epoch 18/20\n",
            "375/375 [==============================] - 45s 119ms/step - loss: 0.0500 - accuracy: 0.9810 - val_loss: 0.4198 - val_accuracy: 0.9100\n",
            "Epoch 19/20\n",
            "302/375 [=======================>......] - ETA: 9s - loss: 0.0435 - accuracy: 0.9844"
          ]
        }
      ]
    },
    {
      "cell_type": "markdown",
      "source": [
        "# Test prediction accuracy"
      ],
      "metadata": {
        "id": "iwfHkIE-MgFQ"
      }
    },
    {
      "cell_type": "code",
      "source": [
        "score = model.evaluate(X_test, y_test, verbose=0)\n",
        "print('Test loss:', score[0])\n",
        "print('Test accuracy:', score[1])"
      ],
      "metadata": {
        "id": "aie4m9QzMhY5"
      },
      "execution_count": null,
      "outputs": []
    },
    {
      "cell_type": "markdown",
      "source": [
        "**Test accuracy is around 0.914, and loss around 0.366.**\n",
        "\n",
        "\n",
        "We evaluated the model accuracy based on the predicted values for the test set. Let's check the validation value during training.\n",
        "\n",
        "\n",
        "\n"
      ],
      "metadata": {
        "id": "fjIlx4S9VFUc"
      }
    },
    {
      "cell_type": "markdown",
      "source": [
        "# Validation accuracy and loss \n",
        "\n",
        "In this section, we shall plot the train and validation accuracy and loss, from the train history."
      ],
      "metadata": {
        "id": "Y4mDGpJ6NJd8"
      }
    },
    {
      "cell_type": "code",
      "source": [
        "def create_trace(x,y,ylabel,color):\n",
        "        trace = go.Scatter(\n",
        "            x = x,y = y,\n",
        "            name=ylabel,\n",
        "            marker=dict(color=color),\n",
        "            mode = \"markers+lines\",\n",
        "            text=x\n",
        "        )\n",
        "        return trace\n",
        "    \n",
        "def plot_accuracy_and_loss(train_model):\n",
        "    hist = train_model.history\n",
        "    acc = hist['accuracy']\n",
        "    val_acc = hist['val_accuracy']\n",
        "    loss = hist['loss']\n",
        "    val_loss = hist['val_loss']\n",
        "    epochs = list(range(1,len(acc)+1))\n",
        "    \n",
        "    trace_ta = create_trace(epochs,acc,\"Training accuracy\", \"Green\")\n",
        "    trace_va = create_trace(epochs,val_acc,\"Validation accuracy\", \"Red\")\n",
        "    trace_tl = create_trace(epochs,loss,\"Training loss\", \"Blue\")\n",
        "    trace_vl = create_trace(epochs,val_loss,\"Validation loss\", \"Magenta\")\n",
        "   \n",
        "    fig = tools.make_subplots(rows=1,cols=2, subplot_titles=('Training and validation accuracy',\n",
        "                                                             'Training and validation loss'))\n",
        "    fig.append_trace(trace_ta,1,1)\n",
        "    fig.append_trace(trace_va,1,1)\n",
        "    fig.append_trace(trace_tl,1,2)\n",
        "    fig.append_trace(trace_vl,1,2)\n",
        "    fig['layout']['xaxis'].update(title = 'Epoch')\n",
        "    fig['layout']['xaxis2'].update(title = 'Epoch')\n",
        "    fig['layout']['yaxis'].update(title = 'Accuracy', range=[0,1])\n",
        "    fig['layout']['yaxis2'].update(title = 'Loss', range=[0,1])\n",
        "\n",
        "    \n",
        "    iplot(fig, filename='accuracy-loss')\n",
        "\n",
        "plot_accuracy_and_loss(train_model)"
      ],
      "metadata": {
        "id": "oYArGRVlNe2k"
      },
      "execution_count": null,
      "outputs": []
    },
    {
      "cell_type": "markdown",
      "source": [
        "# Add Dropout layers to the model: \n",
        "\n",
        "We add several Dropout layers to the model, to help avoiding overfitting."
      ],
      "metadata": {
        "id": "sWiSetMCOycJ"
      }
    },
    {
      "cell_type": "code",
      "source": [
        "# Model\n",
        "model = Sequential()\n",
        "# Add convolution 2D\n",
        "model.add(Conv2D(32, kernel_size=(3, 3),\n",
        "                 activation='relu',\n",
        "                 kernel_initializer='he_normal',\n",
        "                 input_shape=(IMG_ROWS, IMG_COLS, 1)))\n",
        "model.add(MaxPooling2D((2, 2)))\n",
        "# Add dropouts to the model\n",
        "model.add(Dropout(0.25))\n",
        "model.add(Conv2D(64, \n",
        "                 kernel_size=(3, 3), \n",
        "                 activation='relu'))\n",
        "model.add(MaxPooling2D(pool_size=(2, 2)))\n",
        "# Add dropouts to the model\n",
        "model.add(Dropout(0.25))\n",
        "model.add(Conv2D(128, (3, 3), activation='relu'))\n",
        "# Add dropouts to the model\n",
        "model.add(Dropout(0.4))\n",
        "model.add(Flatten())\n",
        "model.add(Dense(128, activation='relu'))\n",
        "# Add dropouts to the model\n",
        "model.add(Dropout(0.3))\n",
        "model.add(Dense(NUM_CLASSES, activation='softmax'))\n",
        "\n",
        "\n",
        "model.compile(loss=keras.losses.categorical_crossentropy,\n",
        "              optimizer='adam',\n",
        "              metrics=['accuracy'])"
      ],
      "metadata": {
        "id": "lsD6TA7oO2yS"
      },
      "execution_count": null,
      "outputs": []
    },
    {
      "cell_type": "markdown",
      "source": [
        "# Re-train the model\n",
        "\n",
        "Let's look at the model summary first:"
      ],
      "metadata": {
        "id": "4oQyj_yGPXdl"
      }
    },
    {
      "cell_type": "code",
      "source": [
        "model.summary()\n"
      ],
      "metadata": {
        "id": "JxDNZeSKPmhu"
      },
      "execution_count": null,
      "outputs": []
    },
    {
      "cell_type": "markdown",
      "source": [
        "And now let's train the new model.\n",
        "\n"
      ],
      "metadata": {
        "id": "Q92AH7JcP_A3"
      }
    },
    {
      "cell_type": "code",
      "source": [
        "train_model = model.fit(X_train, y_train,\n",
        "                  batch_size=BATCH_SIZE,\n",
        "                  epochs=NO_EPOCHS,\n",
        "                  verbose=1,\n",
        "                  validation_data=(X_val, y_val))"
      ],
      "metadata": {
        "id": "gRbysCujQA41"
      },
      "execution_count": null,
      "outputs": []
    },
    {
      "cell_type": "markdown",
      "source": [
        "# Prediction accuracy with the new model:\n",
        "\n",
        " Let's re-evaluate the prediction accuracy with the new model of the dropout layer."
      ],
      "metadata": {
        "id": "Srw3Cz18Ro53"
      }
    },
    {
      "cell_type": "code",
      "source": [
        "score = model.evaluate(X_test, y_test, verbose=0)\n",
        "print('Test loss:', score[0])\n",
        "print('Test accuracy:', score[1])"
      ],
      "metadata": {
        "id": "SDy4W3A8Rzog"
      },
      "execution_count": null,
      "outputs": []
    },
    {
      "cell_type": "markdown",
      "source": [
        "Here, the loss got decreased from 0.36 to 0.20, and the accuracy also improved from 0.91 to 0.92. So, adding the dropout layer became a big help."
      ],
      "metadata": {
        "id": "s7yVyc45SHSU"
      }
    },
    {
      "cell_type": "code",
      "source": [
        "test_data.head(2)"
      ],
      "metadata": {
        "id": "4_9ObulhWEOY"
      },
      "execution_count": null,
      "outputs": []
    },
    {
      "cell_type": "code",
      "source": [
        "test_data['label'].to_numpy()"
      ],
      "metadata": {
        "id": "mkYUGsiSWKpp"
      },
      "execution_count": null,
      "outputs": []
    },
    {
      "cell_type": "code",
      "source": [
        "#get the predictions for the test data\n",
        "predicted_classes = model.predict_classes(X_test)\n",
        "#get the indices to be plotted\n",
        "y_true = test_data.iloc[:, 0].to_numpy()\n",
        "\n",
        "print(predicted_classes)\n",
        "print(y_true)"
      ],
      "metadata": {
        "id": "wiPa3b4vSqOd"
      },
      "execution_count": null,
      "outputs": []
    },
    {
      "cell_type": "code",
      "source": [
        "p = predicted_classes[:10000]\n",
        "y = y_true[:10000]\n",
        "\n",
        "print(p.shape)\n",
        "print(y.shape)\n",
        "\n",
        "print(y)\n",
        "print(p)\n",
        "\n",
        "correct = np.nonzero(p==y)[0]\n",
        "incorrect = np.nonzero(p!=y)[0]"
      ],
      "metadata": {
        "id": "FMv_1i0HUF0R"
      },
      "execution_count": null,
      "outputs": []
    },
    {
      "cell_type": "code",
      "source": [
        "print(\"Correct predicted classes:\",correct.shape[0])\n",
        "print(\"Incorrect predicted classes:\",incorrect.shape[0])"
      ],
      "metadata": {
        "id": "74L6A4KDUhh3"
      },
      "execution_count": null,
      "outputs": []
    },
    {
      "cell_type": "code",
      "source": [
        "target_names = [\"Class {} ({}) :\".format(i,labels[i]) for i in range(NUM_CLASSES)]\n",
        "print(classification_report(y_true, predicted_classes, target_names=target_names))"
      ],
      "metadata": {
        "id": "ivfje0vDWqQn"
      },
      "execution_count": null,
      "outputs": []
    },
    {
      "cell_type": "markdown",
      "source": [
        "# Correctly classified images: \n",
        "\n",
        "We visualize few images correctly classified."
      ],
      "metadata": {
        "id": "gkI3wmSdWzeJ"
      }
    },
    {
      "cell_type": "code",
      "source": [
        "def plot_images(data_index,cmap=\"Blues\"):\n",
        "    # Plot the sample images now\n",
        "    f, ax = plt.subplots(4,4, figsize=(15,15))\n",
        "\n",
        "    for i, indx in enumerate(data_index[:16]):\n",
        "        ax[i//4, i%4].imshow(X_test[indx].reshape(IMG_ROWS,IMG_COLS), cmap=cmap)\n",
        "        ax[i//4, i%4].axis('off')\n",
        "        ax[i//4, i%4].set_title(\"True:{}  Pred:{}\".format(labels[y_true[indx]],labels[predicted_classes[indx]]))\n",
        "    plt.show()    \n",
        "    \n",
        "plot_images(correct, \"Greens\")"
      ],
      "metadata": {
        "id": "yhXAdNpyW3u4"
      },
      "execution_count": null,
      "outputs": []
    },
    {
      "cell_type": "markdown",
      "source": [
        "# **Incorrectly classified images**"
      ],
      "metadata": {
        "id": "lFsfShVVXHtQ"
      }
    },
    {
      "cell_type": "code",
      "source": [
        "plot_images(incorrect, \"Reds\")\n"
      ],
      "metadata": {
        "id": "P_bie5rBXKwN"
      },
      "execution_count": null,
      "outputs": []
    }
  ]
}